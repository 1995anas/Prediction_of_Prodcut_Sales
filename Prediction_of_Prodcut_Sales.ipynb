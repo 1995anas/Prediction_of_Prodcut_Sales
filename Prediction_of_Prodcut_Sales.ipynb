{
  "nbformat": 4,
  "nbformat_minor": 0,
  "metadata": {
    "colab": {
      "provenance": [],
      "authorship_tag": "ABX9TyOnGP1HjS2Z2vVEjDyYmCLp",
      "include_colab_link": true
    },
    "kernelspec": {
      "name": "python3",
      "display_name": "Python 3"
    },
    "language_info": {
      "name": "python"
    }
  },
  "cells": [
    {
      "cell_type": "markdown",
      "metadata": {
        "id": "view-in-github",
        "colab_type": "text"
      },
      "source": [
        "<a href=\"https://colab.research.google.com/github/1995anas/Prediction_of_Product_Sales/blob/main/Prediction_of_Prodcut_Sales.ipynb\" target=\"_parent\"><img src=\"https://colab.research.google.com/assets/colab-badge.svg\" alt=\"Open In Colab\"/></a>"
      ]
    },
    {
      "cell_type": "markdown",
      "source": [
        "# Predicion of Product Sales\n",
        "- Author: Anas Abu Alhaija\n"
      ],
      "metadata": {
        "id": "n-CyYGTkqwOG"
      }
    },
    {
      "cell_type": "markdown",
      "source": [
        "## Project Overview"
      ],
      "metadata": {
        "id": "X5prAPPNtNZX"
      }
    },
    {
      "cell_type": "markdown",
      "source": [
        "## Load and Inspect Data"
      ],
      "metadata": {
        "id": "D8nEeZrFt8Bx"
      }
    },
    {
      "cell_type": "markdown",
      "source": [
        "## Clean Data"
      ],
      "metadata": {
        "id": "Njk1xmvnuRtS"
      }
    },
    {
      "cell_type": "markdown",
      "source": [
        "## Exploratory Data Analysis"
      ],
      "metadata": {
        "id": "kJyKp_LHucym"
      }
    },
    {
      "cell_type": "markdown",
      "source": [
        "## Feature Inspection"
      ],
      "metadata": {
        "id": "1LOHR4z1uoRD"
      }
    }
  ]
}